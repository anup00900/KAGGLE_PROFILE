{
 "cells": [
  {
   "cell_type": "markdown",
   "execution_count": null,
   "metadata": {
    "_cell_guid": "6b39f320-eb95-406c-bfe2-de385d791a3c",
    "_uuid": "080922d2cfe19110eac5db6786496c3953872386",
    "deletable": true,
    "editable": true
   },
   "outputs": [],
   "source": [
    "## Introduction \n",
    "The Data set I analyzed is **Titanic Data**.  \n",
    "At first we need understand data, then ask question.  \n",
    "We can find the descriptions of this csv file.  \n",
    "These are definitions of variables.\n",
    "\n",
    "    VARIABLE DESCRIPTIONS:\n",
    "    survival        Survival\n",
    "                    (0 = No; 1 = Yes)\n",
    "    pclass          Passenger Class\n",
    "                    (1 = 1st; 2 = 2nd; 3 = 3rd)\n",
    "    name            Name\n",
    "    sex             Sex\n",
    "    age             Age\n",
    "    sibsp           Number of Siblings/Spouses Aboard\n",
    "    parch           Number of Parents/Children Aboard\n",
    "    ticket          Ticket Number\n",
    "    fare            Passenger Fare\n",
    "    cabin           Cabin\n",
    "    embarked        Port of Embarkation\n",
    "                    (C = Cherbourg; Q = Queenstown; S = Southampton)\n"
   ]
  },
  {
   "cell_type": "markdown",
   "execution_count": null,
   "metadata": {
    "_cell_guid": "0f9738f8-3c9e-4dbb-8ec7-b35a82ec0391",
    "_uuid": "6efcea55779aaa850cc0c23b77edfb1ae6e864d6",
    "collapsed": false,
    "deletable": true,
    "editable": true
   },
   "outputs": [],
   "source": [
    "## Ask Question\n",
    "Then we can ask questions.  \n",
    "As kaggle suggested some groups of people more likely to survive, like **children, women, and the upper-class.**  \n",
    "So I will ask, **Is these factors really relate to the survive rate?**  \n",
    "**Add: Do different Sex in same class have different survive rate ?** \n",
    "**Or same Sex have different survive rate in different class?**\n",
    "\n",
    "And more, when I seach the structure and cabins' location of titanic online,  \n",
    "I find the factor of cabin may also connect to the survive rate,  \n",
    "such as some cabins is far from boat deck,and living with crowd of people.  \n",
    "Therefore, I will ask, ~~**Will people living in different cabin have different survive rate?**~~  \n",
    "**Revise: What is connection between fare and survive rate?**\n",
    "\n",
    "Let's wrangle data."
   ]
  },
  {
   "cell_type": "code",
   "execution_count": 1,
   "metadata": {
    "_cell_guid": "4c07c07d-0787-407c-be21-78d51169a1be",
    "_execution_state": "idle",
    "_uuid": "aee7af2bcd1925dc7fa170f9642c802485d2dd09",
    "collapsed": false,
    "deletable": true,
    "editable": true
   },
   "outputs": [
    {
     "name": "stdout",
     "output_type": "stream",
     "text": [
      "Populating the interactive namespace from numpy and matplotlib\n"
     ]
    },
    {
     "data": {
      "text/html": [
       "<div>\n",
       "<style>\n",
       "    .dataframe thead tr:only-child th {\n",
       "        text-align: right;\n",
       "    }\n",
       "\n",
       "    .dataframe thead th {\n",
       "        text-align: left;\n",
       "    }\n",
       "\n",
       "    .dataframe tbody tr th {\n",
       "        vertical-align: top;\n",
       "    }\n",
       "</style>\n",
       "<table border=\"1\" class=\"dataframe\">\n",
       "  <thead>\n",
       "    <tr style=\"text-align: right;\">\n",
       "      <th></th>\n",
       "      <th>PassengerId</th>\n",
       "      <th>Survived</th>\n",
       "      <th>Pclass</th>\n",
       "      <th>Name</th>\n",
       "      <th>Sex</th>\n",
       "      <th>Age</th>\n",
       "      <th>SibSp</th>\n",
       "      <th>Parch</th>\n",
       "      <th>Ticket</th>\n",
       "      <th>Fare</th>\n",
       "      <th>Cabin</th>\n",
       "      <th>Embarked</th>\n",
       "    </tr>\n",
       "  </thead>\n",
       "  <tbody>\n",
       "    <tr>\n",
       "      <th>0</th>\n",
       "      <td>1</td>\n",
       "      <td>0</td>\n",
       "      <td>3</td>\n",
       "      <td>Braund, Mr. Owen Harris</td>\n",
       "      <td>male</td>\n",
       "      <td>22.0</td>\n",
       "      <td>1</td>\n",
       "      <td>0</td>\n",
       "      <td>A/5 21171</td>\n",
       "      <td>7.2500</td>\n",
       "      <td>NaN</td>\n",
       "      <td>S</td>\n",
       "    </tr>\n",
       "    <tr>\n",
       "      <th>1</th>\n",
       "      <td>2</td>\n",
       "      <td>1</td>\n",
       "      <td>1</td>\n",
       "      <td>Cumings, Mrs. John Bradley (Florence Briggs Th...</td>\n",
       "      <td>female</td>\n",
       "      <td>38.0</td>\n",
       "      <td>1</td>\n",
       "      <td>0</td>\n",
       "      <td>PC 17599</td>\n",
       "      <td>71.2833</td>\n",
       "      <td>C85</td>\n",
       "      <td>C</td>\n",
       "    </tr>\n",
       "    <tr>\n",
       "      <th>2</th>\n",
       "      <td>3</td>\n",
       "      <td>1</td>\n",
       "      <td>3</td>\n",
       "      <td>Heikkinen, Miss. Laina</td>\n",
       "      <td>female</td>\n",
       "      <td>26.0</td>\n",
       "      <td>0</td>\n",
       "      <td>0</td>\n",
       "      <td>STON/O2. 3101282</td>\n",
       "      <td>7.9250</td>\n",
       "      <td>NaN</td>\n",
       "      <td>S</td>\n",
       "    </tr>\n",
       "    <tr>\n",
       "      <th>3</th>\n",
       "      <td>4</td>\n",
       "      <td>1</td>\n",
       "      <td>1</td>\n",
       "      <td>Futrelle, Mrs. Jacques Heath (Lily May Peel)</td>\n",
       "      <td>female</td>\n",
       "      <td>35.0</td>\n",
       "      <td>1</td>\n",
       "      <td>0</td>\n",
       "      <td>113803</td>\n",
       "      <td>53.1000</td>\n",
       "      <td>C123</td>\n",
       "      <td>S</td>\n",
       "    </tr>\n",
       "    <tr>\n",
       "      <th>4</th>\n",
       "      <td>5</td>\n",
       "      <td>0</td>\n",
       "      <td>3</td>\n",
       "      <td>Allen, Mr. William Henry</td>\n",
       "      <td>male</td>\n",
       "      <td>35.0</td>\n",
       "      <td>0</td>\n",
       "      <td>0</td>\n",
       "      <td>373450</td>\n",
       "      <td>8.0500</td>\n",
       "      <td>NaN</td>\n",
       "      <td>S</td>\n",
       "    </tr>\n",
       "  </tbody>\n",
       "</table>\n",
       "</div>"
      ],
      "text/plain": [
       "   PassengerId  Survived  Pclass  \\\n",
       "0            1         0       3   \n",
       "1            2         1       1   \n",
       "2            3         1       3   \n",
       "3            4         1       1   \n",
       "4            5         0       3   \n",
       "\n",
       "                                                Name     Sex   Age  SibSp  \\\n",
       "0                            Braund, Mr. Owen Harris    male  22.0      1   \n",
       "1  Cumings, Mrs. John Bradley (Florence Briggs Th...  female  38.0      1   \n",
       "2                             Heikkinen, Miss. Laina  female  26.0      0   \n",
       "3       Futrelle, Mrs. Jacques Heath (Lily May Peel)  female  35.0      1   \n",
       "4                           Allen, Mr. William Henry    male  35.0      0   \n",
       "\n",
       "   Parch            Ticket     Fare Cabin Embarked  \n",
       "0      0         A/5 21171   7.2500   NaN        S  \n",
       "1      0          PC 17599  71.2833   C85        C  \n",
       "2      0  STON/O2. 3101282   7.9250   NaN        S  \n",
       "3      0            113803  53.1000  C123        S  \n",
       "4      0            373450   8.0500   NaN        S  "
      ]
     },
     "execution_count": 1,
     "metadata": {},
     "output_type": "execute_result"
    }
   ],
   "source": [
    "import numpy as np\n",
    "import pandas as pd\n",
    "import matplotlib.pyplot as plt\n",
    "import seaborn as sns\n",
    "\n",
    "%pylab inline\n",
    "\n",
    "# Get a glimpse of data\n",
    "titanic_df = pd.read_csv('../input/train.csv')\n",
    "titanic_df.head()"
   ]
  },
  {
   "cell_type": "code",
   "execution_count": 2,
   "metadata": {
    "_cell_guid": "38c45e99-0413-4acb-943a-561d06bd8be6",
    "_execution_state": "idle",
    "_uuid": "3e74e8895965ea86c77f66377bc5be5661843dd1",
    "collapsed": false,
    "deletable": true,
    "editable": true
   },
   "outputs": [
    {
     "name": "stdout",
     "output_type": "stream",
     "text": [
      "<class 'pandas.core.frame.DataFrame'>\n",
      "RangeIndex: 891 entries, 0 to 890\n",
      "Data columns (total 12 columns):\n",
      "PassengerId    891 non-null int64\n",
      "Survived       891 non-null int64\n",
      "Pclass         891 non-null int64\n",
      "Name           891 non-null object\n",
      "Sex            891 non-null object\n",
      "Age            714 non-null float64\n",
      "SibSp          891 non-null int64\n",
      "Parch          891 non-null int64\n",
      "Ticket         891 non-null object\n",
      "Fare           891 non-null float64\n",
      "Cabin          204 non-null object\n",
      "Embarked       889 non-null object\n",
      "dtypes: float64(2), int64(5), object(5)\n",
      "memory usage: 83.6+ KB\n"
     ]
    }
   ],
   "source": [
    "# Check the information of our data\n",
    "titanic_df.info()"
   ]
  },
  {
   "cell_type": "markdown",
   "execution_count": null,
   "metadata": {
    "_cell_guid": "3a3db0a4-6a9b-4ce5-8d83-de0dcd888402",
    "_uuid": "efa8e701828ecc888a1d9410e68a02c9865e39c0",
    "deletable": true,
    "editable": true
   },
   "outputs": [],
   "source": [
    "## Revision Question\n",
    "As we see, unfortunately, there are too few data about the cabins.  \n",
    "And some of them even have several cabins' name in it.\n",
    "We need change question, or consider a way to solve it.  \n",
    "\n",
    "At first, I try to solve it.  \n",
    "As different class people will live in the different area and different room. Like [there](http://www.dummies.com/education/history/titanic-facts-the-layout-of-the-ship/) said.  \n",
    "And for different class, the ticket price is also [differernt](http://www.dummies.com/education/history/suites-and-cabins-for-passengers-on-the-titanic/), like 3-8 pounds for 3rd class and 12 pounds for 2nd class.  \n",
    "So, I come up with an idea. Can we guess their room from their ticket price?  \n",
    "However, when search information about coordinate room for different classes,  \n",
    "I find in some floor's room, like D, E, and F floor, is hard to determine which class lives here.  \n",
    "But for 1st class, they mainly live from A to E, 2nd class D to F, and 3rd class F to G.\n",
    "\n",
    "Therefore, people with different fare will live in different area.  \n",
    "I change my Question to **What is connection between fare and survive rate?**\n",
    "\n",
    "Also, We can find only 714 age data here, so we need considerate a way deal with it.  \n",
    "Like we can fill them with random number in a particular range, or we can try some other ways."
   ]
  },
  {
   "cell_type": "code",
   "execution_count": 3,
   "metadata": {
    "_cell_guid": "13a16d84-14ea-4625-bddd-1857ae9cad96",
    "_execution_state": "idle",
    "_uuid": "64ee7328bab668bc7a2b76577e99b56f2b37fcd9",
    "collapsed": false
   },
   "outputs": [
    {
     "data": {
      "text/plain": [
       "<matplotlib.text.Text at 0x7f7266167080>"
      ]
     },
     "execution_count": 3,
     "metadata": {},
     "output_type": "execute_result"
    },
    {
     "data": {
      "image/png": "[encoded data removed]",
      "text/plain": [
       "<matplotlib.figure.Figure at 0x7f7269547f60>"
      ]
     },
     "metadata": {},
     "output_type": "display_data"
    }
   ],
   "source": [
    "#Af first fill lost data, fill age data \n",
    "\n",
    "# Get avarage, std to calculate the limitaton of random number\n",
    "# Get NAN number to determine how many data need to generate\n",
    "fig, (axis1,axis2) = plt.subplots(1,2,figsize=(15,4))\n",
    "\n",
    "# Plot original age data\n",
    "titanic_df['Age'].dropna().hist(bins=70, ax=axis1, ls='solid', lw=0.2, ec='black')\n",
    "\n",
    "average_age = titanic_df.Age.mean()\n",
    "std_age = titanic_df.Age.std()\n",
    "nan_age_number = titanic_df.Age.isnull().sum()\n",
    "\n",
    "# Generate \n",
    "rand_age = np.random.randint(average_age - std_age, average_age + std_age, \n",
    "                             size = nan_age_number)\n",
    "# Fill in \n",
    "titanic_df.loc[np.isnan(titanic_df['Age']), 'Age'] = rand_age\n",
    "\n",
    "# Plot result\n",
    "titanic_df['Age'].hist(bins=70, ax=axis2, ls='solid', lw=0.2, ec='black')\n",
    "axis1.set_title('Before Fill In')\n",
    "axis1.set_xlabel('Age')\n",
    "axis1.set_ylabel('People Number')\n",
    "axis2.set_title('After Fill In')\n",
    "axis2.set_xlabel('Age')\n",
    "axis2.set_ylabel('People Number')"
   ]
  },
  {
   "cell_type": "code",
   "execution_count": 4,
   "metadata": {
    "_cell_guid": "7bd676a0-dd92-46b4-9628-10f7e909030d",
    "_execution_state": "idle",
    "_uuid": "a439816cdb7674237b9501b173d53c6247c99b54",
    "collapsed": false,
    "deletable": true,
    "editable": true
   },
   "outputs": [
    {
     "data": {
      "text/html": [
       "<div>\n",
       "<style>\n",
       "    .dataframe thead tr:only-child th {\n",
       "        text-align: right;\n",
       "    }\n",
       "\n",
       "    .dataframe thead th {\n",
       "        text-align: left;\n",
       "    }\n",
       "\n",
       "    .dataframe tbody tr th {\n",
       "        vertical-align: top;\n",
       "    }\n",
       "</style>\n",
       "<table border=\"1\" class=\"dataframe\">\n",
       "  <thead>\n",
       "    <tr style=\"text-align: right;\">\n",
       "      <th></th>\n",
       "      <th>Survived</th>\n",
       "      <th>Pclass</th>\n",
       "      <th>Sex</th>\n",
       "      <th>Age</th>\n",
       "      <th>Fare</th>\n",
       "    </tr>\n",
       "  </thead>\n",
       "  <tbody>\n",
       "    <tr>\n",
       "      <th>0</th>\n",
       "      <td>0</td>\n",
       "      <td>3</td>\n",
       "      <td>male</td>\n",
       "      <td>22.0</td>\n",
       "      <td>7.2500</td>\n",
       "    </tr>\n",
       "    <tr>\n",
       "      <th>1</th>\n",
       "      <td>1</td>\n",
       "      <td>1</td>\n",
       "      <td>female</td>\n",
       "      <td>38.0</td>\n",
       "      <td>71.2833</td>\n",
       "    </tr>\n",
       "    <tr>\n",
       "      <th>2</th>\n",
       "      <td>1</td>\n",
       "      <td>3</td>\n",
       "      <td>female</td>\n",
       "      <td>26.0</td>\n",
       "      <td>7.9250</td>\n",
       "    </tr>\n",
       "    <tr>\n",
       "      <th>3</th>\n",
       "      <td>1</td>\n",
       "      <td>1</td>\n",
       "      <td>female</td>\n",
       "      <td>35.0</td>\n",
       "      <td>53.1000</td>\n",
       "    </tr>\n",
       "    <tr>\n",
       "      <th>4</th>\n",
       "      <td>0</td>\n",
       "      <td>3</td>\n",
       "      <td>male</td>\n",
       "      <td>35.0</td>\n",
       "      <td>8.0500</td>\n",
       "    </tr>\n",
       "  </tbody>\n",
       "</table>\n",
       "</div>"
      ],
      "text/plain": [
       "   Survived  Pclass     Sex   Age     Fare\n",
       "0         0       3    male  22.0   7.2500\n",
       "1         1       1  female  38.0  71.2833\n",
       "2         1       3  female  26.0   7.9250\n",
       "3         1       1  female  35.0  53.1000\n",
       "4         0       3    male  35.0   8.0500"
      ]
     },
     "execution_count": 4,
     "metadata": {},
     "output_type": "execute_result"
    }
   ],
   "source": [
    "# At first drop data it seems useless for this analysis\n",
    "# they are ID, name, ticket number, embark place, cabin, SibSp, and Parch\n",
    "titanic_df = titanic_df.drop(['PassengerId','Name','Ticket','Embarked','Cabin','SibSp','Parch'],axis = 1)\n",
    "titanic_df.head()"
   ]
  },
  {
   "cell_type": "code",
   "execution_count": 5,
   "metadata": {
    "_cell_guid": "6a7cf787-15fa-40e8-adcb-7a3ee405c2a1",
    "_execution_state": "idle",
    "_uuid": "26d7cdf26f0f9fa13f476368712830ae6775d19e",
    "collapsed": false,
    "deletable": true,
    "editable": true
   },
   "outputs": [
    {
     "data": {
      "text/html": [
       "<div>\n",
       "<style>\n",
       "    .dataframe thead tr:only-child th {\n",
       "        text-align: right;\n",
       "    }\n",
       "\n",
       "    .dataframe thead th {\n",
       "        text-align: left;\n",
       "    }\n",
       "\n",
       "    .dataframe tbody tr th {\n",
       "        vertical-align: top;\n",
       "    }\n",
       "</style>\n",
       "<table border=\"1\" class=\"dataframe\">\n",
       "  <thead>\n",
       "    <tr style=\"text-align: right;\">\n",
       "      <th></th>\n",
       "      <th>Survived</th>\n",
       "      <th>Pclass</th>\n",
       "      <th>Sex</th>\n",
       "      <th>Fare</th>\n",
       "    </tr>\n",
       "  </thead>\n",
       "  <tbody>\n",
       "    <tr>\n",
       "      <th>0</th>\n",
       "      <td>0</td>\n",
       "      <td>3</td>\n",
       "      <td>male</td>\n",
       "      <td>7.2500</td>\n",
       "    </tr>\n",
       "    <tr>\n",
       "      <th>1</th>\n",
       "      <td>1</td>\n",
       "      <td>1</td>\n",
       "      <td>female</td>\n",
       "      <td>71.2833</td>\n",
       "    </tr>\n",
       "    <tr>\n",
       "      <th>2</th>\n",
       "      <td>1</td>\n",
       "      <td>3</td>\n",
       "      <td>female</td>\n",
       "      <td>7.9250</td>\n",
       "    </tr>\n",
       "    <tr>\n",
       "      <th>3</th>\n",
       "      <td>1</td>\n",
       "      <td>1</td>\n",
       "      <td>female</td>\n",
       "      <td>53.1000</td>\n",
       "    </tr>\n",
       "    <tr>\n",
       "      <th>4</th>\n",
       "      <td>0</td>\n",
       "      <td>3</td>\n",
       "      <td>male</td>\n",
       "      <td>8.0500</td>\n",
       "    </tr>\n",
       "  </tbody>\n",
       "</table>\n",
       "</div>"
      ],
      "text/plain": [
       "   Survived  Pclass     Sex     Fare\n",
       "0         0       3    male   7.2500\n",
       "1         1       1  female  71.2833\n",
       "2         1       3  female   7.9250\n",
       "3         1       1  female  53.1000\n",
       "4         0       3    male   8.0500"
      ]
     },
     "execution_count": 5,
     "metadata": {},
     "output_type": "execute_result"
    }
   ],
   "source": [
    "# At first let's analyse from sex and age view\n",
    "# Divide children from male and female type\n",
    "titanic_df.loc[titanic_df['Age'] <= 16, 'Sex'] = 'child'\n",
    "titanic_df = titanic_df.drop(['Age'],axis=1)\n",
    "titanic_df.head()\n"
   ]
  },
  {
   "cell_type": "code",
   "execution_count": 6,
   "metadata": {
    "_cell_guid": "3204f1cd-0551-4dab-ad09-ee84b4962a7a",
    "_execution_state": "idle",
    "_uuid": "4fc06b4398aa89048492fb27af7ef8420821281e",
    "collapsed": false
   },
   "outputs": [
    {
     "data": {
      "text/html": [
       "<div>\n",
       "<style>\n",
       "    .dataframe thead tr:only-child th {\n",
       "        text-align: right;\n",
       "    }\n",
       "\n",
       "    .dataframe thead th {\n",
       "        text-align: left;\n",
       "    }\n",
       "\n",
       "    .dataframe tbody tr th {\n",
       "        vertical-align: top;\n",
       "    }\n",
       "</style>\n",
       "<table border=\"1\" class=\"dataframe\">\n",
       "  <thead>\n",
       "    <tr style=\"text-align: right;\">\n",
       "      <th></th>\n",
       "      <th>Survived</th>\n",
       "      <th>Pclass</th>\n",
       "      <th>Sex</th>\n",
       "      <th>Fare</th>\n",
       "      <th>Survival</th>\n",
       "      <th>Class</th>\n",
       "      <th>Child</th>\n",
       "    </tr>\n",
       "  </thead>\n",
       "  <tbody>\n",
       "    <tr>\n",
       "      <th>0</th>\n",
       "      <td>0</td>\n",
       "      <td>3</td>\n",
       "      <td>male</td>\n",
       "      <td>7.2500</td>\n",
       "      <td>Died</td>\n",
       "      <td>3rd Class</td>\n",
       "      <td>Not Child</td>\n",
       "    </tr>\n",
       "    <tr>\n",
       "      <th>1</th>\n",
       "      <td>1</td>\n",
       "      <td>1</td>\n",
       "      <td>female</td>\n",
       "      <td>71.2833</td>\n",
       "      <td>Survived</td>\n",
       "      <td>1st Class</td>\n",
       "      <td>Not Child</td>\n",
       "    </tr>\n",
       "    <tr>\n",
       "      <th>2</th>\n",
       "      <td>1</td>\n",
       "      <td>3</td>\n",
       "      <td>female</td>\n",
       "      <td>7.9250</td>\n",
       "      <td>Survived</td>\n",
       "      <td>3rd Class</td>\n",
       "      <td>Not Child</td>\n",
       "    </tr>\n",
       "    <tr>\n",
       "      <th>3</th>\n",
       "      <td>1</td>\n",
       "      <td>1</td>\n",
       "      <td>female</td>\n",
       "      <td>53.1000</td>\n",
       "      <td>Survived</td>\n",
       "      <td>1st Class</td>\n",
       "      <td>Not Child</td>\n",
       "    </tr>\n",
       "    <tr>\n",
       "      <th>4</th>\n",
       "      <td>0</td>\n",
       "      <td>3</td>\n",
       "      <td>male</td>\n",
       "      <td>8.0500</td>\n",
       "      <td>Died</td>\n",
       "      <td>3rd Class</td>\n",
       "      <td>Not Child</td>\n",
       "    </tr>\n",
       "  </tbody>\n",
       "</table>\n",
       "</div>"
      ],
      "text/plain": [
       "   Survived  Pclass     Sex     Fare  Survival      Class      Child\n",
       "0         0       3    male   7.2500      Died  3rd Class  Not Child\n",
       "1         1       1  female  71.2833  Survived  1st Class  Not Child\n",
       "2         1       3  female   7.9250  Survived  3rd Class  Not Child\n",
       "3         1       1  female  53.1000  Survived  1st Class  Not Child\n",
       "4         0       3    male   8.0500      Died  3rd Class  Not Child"
      ]
     },
     "execution_count": 6,
     "metadata": {},
     "output_type": "execute_result"
    }
   ],
   "source": [
    "# Give mroe descriptive labels for Survived and Pclass\n",
    "titanic_df['Survival'] = titanic_df.Survived.map({0:'Died',1:'Survived'})\n",
    "titanic_df['Class'] = titanic_df.Pclass.map({1:'1st Class',2:'2nd Class',3:'3rd Class'})\n",
    "\n",
    "# Child and not child\n",
    "titanic_df['Child'] = titanic_df.Sex.map({'child':'Is Child','female':'Not Child','male':'Not Child'})\n",
    "titanic_df.head()"
   ]
  },
  {
   "cell_type": "code",
   "execution_count": 7,
   "metadata": {
    "_cell_guid": "d11e748c-17bb-47c4-abee-bc790f26e911",
    "_execution_state": "idle",
    "_uuid": "95d78f91a84db830fd7a8afe8a1cfba0149347d9",
    "collapsed": false,
    "deletable": true,
    "editable": true
   },
   "outputs": [
    {
     "data": {
      "text/plain": [
       "<matplotlib.text.Text at 0x7f7265b98a90>"
      ]
     },
     "execution_count": 7,
     "metadata": {},
     "output_type": "execute_result"
    },
    {
     "data": {
      "image/png": "[encoded data removed]",
      "text/plain": [
       "<matplotlib.figure.Figure at 0x7f72695474e0>"
      ]
     },
     "metadata": {},
     "output_type": "display_data"
    },
    {
     "data": {
      "image/png": "[encoded data removed]",
      "text/plain": [
       "<matplotlib.figure.Figure at 0x7f7265d9ab00>"
      ]
     },
     "metadata": {},
     "output_type": "display_data"
    },
    {
     "data": {
      "image/png": "[encoded data removed]",
      "text/plain": [
       "<matplotlib.figure.Figure at 0x7f7265c28c18>"
      ]
     },
     "metadata": {},
     "output_type": "display_data"
    }
   ],
   "source": [
    "# Draw pictures to see more clearly of the relations\n",
    "# about sex and age factor\n",
    "\n",
    "sns.factorplot(data=titanic_df,x='Sex',y='Survived',kind=\"violin\",size=4,aspect=3)\n",
    "plt.yticks([0,1], ['Died', 'Survived'])\n",
    "\n",
    "# Plot basic information about sex and age\n",
    "fig, (axis1,axis2) = plt.subplots(1,2,figsize=(15,5))\n",
    "sns.countplot(data=titanic_df, x='Sex',ax=axis1)\n",
    "sns.countplot(data=titanic_df,x='Survived',hue='Sex',order=[0,1],ax=axis2)\n",
    "plt.xticks([0,1], ['Died', 'Survived'])\n",
    "\n",
    "fig, (axis3,axis4) = plt.subplots(1,2,figsize=(15,5))\n",
    "# Group data by sex and whether child\n",
    "sex_survi_groups = titanic_df[['Sex','Survived']].groupby(['Sex'],as_index=True)\n",
    "\n",
    "#Divide into three groups\n",
    "men_group = sex_survi_groups.get_group('male')\n",
    "women_group = sex_survi_groups.get_group('female')\n",
    "children_group = sex_survi_groups.get_group('child')\n",
    "\n",
    "# Plot survive rate between different sex\n",
    "sns.barplot(data=titanic_df[['Sex','Survived']],x='Sex',y='Survived',order=['male','female'],ax=axis3)\n",
    "axis3.set_ylabel(\"Survival Rate\")\n",
    "\n",
    "# Draw Child and Non-Child plot\n",
    "sns.barplot(data=titanic_df[['Child', 'Survived']],x='Child',y='Survived',order=['Is Child','Not Child'],ax=axis4)\n",
    "axis4.set_ylabel(\"Survival Rate\")\n",
    "\n",
    "axis3.set_title('Survive rate compare by Sex')\n",
    "axis4.set_title('Survive rate compare by whether child')"
   ]
  },
  {
   "cell_type": "code",
   "execution_count": 8,
   "metadata": {
    "_cell_guid": "7ef52893-0a83-4cad-94bd-b4d0963edb41",
    "_execution_state": "idle",
    "_uuid": "59194c40618fec51a712933dbbe6ecf6d6d27e23",
    "collapsed": false,
    "deletable": true,
    "editable": true
   },
   "outputs": [
    {
     "name": "stdout",
     "output_type": "stream",
     "text": [
      "Results of Chi-Squared test on Sex to Survival.\n",
      "Chi-Square Score = 254.128515913\n",
      "Pvalue = 3.26899925825e-57\n",
      "\n"
     ]
    }
   ],
   "source": [
    "# Statistic Hypothesis Test\n",
    "# Chi-Square Test for Independence\n",
    "# State the hypothesis: H0: Gender and survival rate are independent\n",
    "from scipy.stats import chi2_contingency\n",
    "\n",
    "men_women_group = pd.concat([men_group, women_group])\n",
    "gender_pivot = pd.pivot_table(data=men_women_group[['Survived','Sex']],index='Survived',columns=['Sex'],\n",
    "                      aggfunc=len)\n",
    "chi2, p_value, dof, expected = chi2_contingency(gender_pivot)\n",
    "print(\"Results of Chi-Squared test on Sex to Survival.\")\n",
    "print(\"Chi-Square Score = %s\"%str(chi2))\n",
    "print(\"Pvalue = %s\\n\"%str(p_value))"
   ]
  },
  {
   "cell_type": "code",
   "execution_count": 9,
   "metadata": {
    "_cell_guid": "d19cfbda-37f3-4ade-ad96-94359178898e",
    "_execution_state": "idle",
    "_uuid": "db087a77d852471f96fb42c193b352b7da56b152",
    "collapsed": false
   },
   "outputs": [
    {
     "name": "stdout",
     "output_type": "stream",
     "text": [
      "Results of Chi-Squared test on Child to Survival.\n",
      "Chi-Square Score = 6.00907600694\n",
      "Pvalue = 0.0142324783182\n",
      "\n"
     ]
    }
   ],
   "source": [
    "# Test for child and non-child\n",
    "child_pivot = pd.pivot_table(data=titanic_df[['Survived','Child']],index='Survived',columns=['Child'],\n",
    "                      aggfunc=len)\n",
    "chi2, p_value, dof, expected = chi2_contingency(child_pivot)\n",
    "print(\"Results of Chi-Squared test on Child to Survival.\")\n",
    "print(\"Chi-Square Score = %s\"%str(chi2))\n",
    "print(\"Pvalue = %s\\n\"%str(p_value))"
   ]
  },
  {
   "cell_type": "markdown",
   "execution_count": null,
   "metadata": {
    "_cell_guid": "c4bf9d1b-c024-433d-ba9f-946fa2f655ac",
    "_uuid": "ef02dc1d5a009fcde88d55feedf5ba6ae1b29023",
    "deletable": true,
    "editable": true
   },
   "outputs": [],
   "source": [
    "## Analyze above test about Sex and Children\n",
    "We can see that for men and women Chi-Square Score is a large number, and p value is very small, even far small than 0.01.\n",
    "Therefore we can confidently reject our null hypothesis to say **Gender and survival rate is related**.  \n",
    "\n",
    "For child and non-child, even it is not significant than sex.\n",
    "We can still say we have 99% confident say **whether child or not relate to survival rate**, as small pvalue."
   ]
  },
  {
   "cell_type": "code",
   "execution_count": 10,
   "metadata": {
    "_cell_guid": "86bdadc2-05c2-4d63-bd10-6aaaa4545e20",
    "_execution_state": "idle",
    "_uuid": "ee398077d6c2c55a47bcbe463b41f0750ee5a2fd",
    "collapsed": false,
    "deletable": true,
    "editable": true
   },
   "outputs": [
    {
     "data": {
      "text/plain": [
       "<matplotlib.text.Text at 0x7f7265900668>"
      ]
     },
     "execution_count": 10,
     "metadata": {},
     "output_type": "execute_result"
    },
    {
     "data": {
      "image/png": "[encoded data removed]",
      "text/plain": [
       "<matplotlib.figure.Figure at 0x7f7269591fd0>"
      ]
     },
     "metadata": {},
     "output_type": "display_data"
    },
    {
     "data": {
      "image/png": "[encoded data removed]",
      "text/plain": [
       "<matplotlib.figure.Figure at 0x7f7265a76fd0>"
      ]
     },
     "metadata": {},
     "output_type": "display_data"
    }
   ],
   "source": [
    "# Then let's analyze class factor\n",
    "sns.factorplot(data=titanic_df,x='Class',y='Survived',kind=\"violin\", \\\n",
    "               order=['1st Class','2nd Class','3rd Class'],size=4,aspect=3)\n",
    "plt.yticks([0,1],['Died','Survived'])\n",
    "\n",
    "# Group by class and take mean\n",
    "class_survi_prec = titanic_df[['Class','Survived']].groupby(['Class'],as_index=False).mean()\n",
    "\n",
    "# Compare number and survived rate between three classes\n",
    "fig, (axis1,axis2) = plt.subplots(1,2,figsize=(15,5))\n",
    "sns.countplot(data=titanic_df, x='Class',order=['1st Class','2nd Class','3rd Class'],ax=axis1)\n",
    "sns.barplot(data=class_survi_prec,x='Class',y='Survived', \\\n",
    "            order=['1st Class','2nd Class','3rd Class'],ax=axis2)\n",
    "axis2.set_ylabel('Survival Rate')"
   ]
  },
  {
   "cell_type": "code",
   "execution_count": 11,
   "metadata": {
    "_cell_guid": "1bd841ff-cf2e-46ca-8ec0-f0e52111ff6c",
    "_execution_state": "idle",
    "_uuid": "6034c9ad4e5834f5a2d66c4777b3f9effbc2f657",
    "collapsed": false,
    "deletable": true,
    "editable": true
   },
   "outputs": [
    {
     "name": "stdout",
     "output_type": "stream",
     "text": [
      "Results of Chi-Squared test on Class to Survival.\n",
      "Chi-Square Score = 102.888988757\n",
      "Pvalue = 4.5492517113e-23\n",
      "\n"
     ]
    }
   ],
   "source": [
    "# Statistic Hypothesis Test:\n",
    "# H0: Class and Survival rate are independent\n",
    "class_pivot = pd.pivot_table(data=titanic_df[['Survived','Class']],index='Survived',columns=['Class'],\n",
    "                            aggfunc=len)\n",
    "chi2, p_value, dof, expected = chi2_contingency(class_pivot)\n",
    "print(\"Results of Chi-Squared test on Class to Survival.\")\n",
    "print(\"Chi-Square Score = %s\"%str(chi2))\n",
    "print(\"Pvalue = %s\\n\"%str(p_value))"
   ]
  },
  {
   "cell_type": "markdown",
   "execution_count": null,
   "metadata": {
    "_cell_guid": "ecfaca78-f309-4fa2-b05c-dea6c8bee295",
    "_uuid": "f7b7730fd50194992b5e1d62d8bf82249e7eadf5",
    "deletable": true,
    "editable": true
   },
   "outputs": [],
   "source": [
    "## Analyze above test about Pclass\n",
    "At first we can see from graphs that there are actually some difference between three classes.  \n",
    "1st class have highest survive rates, 2nd class follow, and then 3rd class.  \n",
    "Especially, 3rd class is very different from the upper two classes.  \n",
    "**3rd class has much lower survive rate than other classes.**  \n",
    "\n",
    "To confirm this observation, we carry on some tests.\n",
    "At first carry on Chi-Square Test on these three classes, we have a high Chi-Square score and a very low p-value.\n",
    "So we can confidently reject its H0, and say **Class actually relate to survive rates**.\n",
    "\n",
    "We can conclude that **Class actually affect survive rate, particularly between upper two classes and Class 3**."
   ]
  },
  {
   "cell_type": "code",
   "execution_count": 12,
   "metadata": {
    "_cell_guid": "013a1fa5-e1e2-4442-a10c-74051cd79848",
    "_execution_state": "idle",
    "_uuid": "584bc3c500a904c163a4165b6937c9156b80e83c",
    "collapsed": false,
    "deletable": true,
    "editable": true
   },
   "outputs": [
    {
     "data": {
      "text/plain": [
       "([<matplotlib.axis.XTick at 0x7f72657e1898>,\n",
       "  <matplotlib.axis.XTick at 0x7f726599c6a0>],\n",
       " <a list of 2 Text xticklabel objects>)"
      ]
     },
     "execution_count": 12,
     "metadata": {},
     "output_type": "execute_result"
    },
    {
     "data": {
      "image/png": "[encoded data removed]",
      "text/plain": [
       "<matplotlib.figure.Figure at 0x7f7269591080>"
      ]
     },
     "metadata": {},
     "output_type": "display_data"
    },
    {
     "data": {
      "text/plain": [
       "<matplotlib.figure.Figure at 0x7f7269591860>"
      ]
     },
     "metadata": {},
     "output_type": "display_data"
    },
    {
     "data": {
      "image/png": "[encoded data removed]",
      "text/plain": [
       "<matplotlib.figure.Figure at 0x7f72655f4668>"
      ]
     },
     "metadata": {},
     "output_type": "display_data"
    }
   ],
   "source": [
    "# Last let's analyze fare factor\n",
    "\n",
    "# Try to plot on a logarithmic x-axis as comment suggests, but it not looks so good \n",
    "# fig = titanic_df['Fare'].plot(kind='hist', figsize=(15,3), bins=100, logx=True, \n",
    "#                               ls='solid', lw=1, ec='black')\n",
    "\n",
    "fig = titanic_df['Fare'].plot(kind='hist', figsize=(15,3), bins=100, \\\n",
    "                             ls='solid', lw=0.5, ec='black')\n",
    "ax = fig.axes\n",
    "ax.set_xlabel('Fare')\n",
    "ax.set_ylabel('People Number')\n",
    "ax.set_title('People Distribution with Fare')\n",
    "\n",
    "# We clear out people have very high fare\n",
    "normal_people = titanic_df[['Fare','Survived']][titanic_df['Fare']<200]\n",
    "fare_survi_group = normal_people[['Fare','Survived']].groupby(['Survived'],as_index=False)\n",
    "\n",
    "# Survive condition for people with normal fare\n",
    "figure(2)\n",
    "sns.factorplot(data=normal_people,x='Survived',y='Fare',aspect=2)\n",
    "plt.xticks([0,1],['Died','Survived'])"
   ]
  },
  {
   "cell_type": "code",
   "execution_count": 13,
   "metadata": {
    "_cell_guid": "c1826918-8c7b-4968-a7b5-7830459cdc04",
    "_execution_state": "idle",
    "_uuid": "46a1a4be5a2f29a64e013b08ea8aec5674230b6f",
    "collapsed": false,
    "deletable": true,
    "editable": true
   },
   "outputs": [
    {
     "data": {
      "text/plain": [
       "Ttest_indResult(statistic=-9.2255699754985034, pvalue=2.0917174696709927e-19)"
      ]
     },
     "execution_count": 13,
     "metadata": {},
     "output_type": "execute_result"
    }
   ],
   "source": [
    "# Statitic Test, variable is continuous, so we choose T-test\n",
    "# H0: People survived and not survived have same fare, mean(survive_fare)=mean(non_survive_fare)\n",
    "from scipy.stats import ttest_ind\n",
    "\n",
    "ttest_ind(fare_survi_group.get_group(0)['Fare'],fare_survi_group.get_group(1)['Fare'])"
   ]
  },
  {
   "cell_type": "code",
   "execution_count": 14,
   "metadata": {
    "_cell_guid": "be0cd809-eb68-472b-81da-22d6a2d5a838",
    "_execution_state": "idle",
    "_uuid": "58faddd2c712204e94e21f07e1d1972dfebec995",
    "collapsed": false
   },
   "outputs": [
    {
     "data": {
      "text/html": [
       "<div>\n",
       "<style>\n",
       "    .dataframe thead tr:only-child th {\n",
       "        text-align: right;\n",
       "    }\n",
       "\n",
       "    .dataframe thead th {\n",
       "        text-align: left;\n",
       "    }\n",
       "\n",
       "    .dataframe tbody tr th {\n",
       "        vertical-align: top;\n",
       "    }\n",
       "</style>\n",
       "<table border=\"1\" class=\"dataframe\">\n",
       "  <thead>\n",
       "    <tr style=\"text-align: right;\">\n",
       "      <th></th>\n",
       "      <th>Fare</th>\n",
       "      <th>Pclass</th>\n",
       "    </tr>\n",
       "  </thead>\n",
       "  <tbody>\n",
       "    <tr>\n",
       "      <th>Fare</th>\n",
       "      <td>1.000000</td>\n",
       "      <td>-0.688032</td>\n",
       "    </tr>\n",
       "    <tr>\n",
       "      <th>Pclass</th>\n",
       "      <td>-0.688032</td>\n",
       "      <td>1.000000</td>\n",
       "    </tr>\n",
       "  </tbody>\n",
       "</table>\n",
       "</div>"
      ],
      "text/plain": [
       "            Fare    Pclass\n",
       "Fare    1.000000 -0.688032\n",
       "Pclass -0.688032  1.000000"
      ]
     },
     "execution_count": 14,
     "metadata": {},
     "output_type": "execute_result"
    },
    {
     "data": {
      "image/png": "[encoded data removed]",
      "text/plain": [
       "<matplotlib.figure.Figure at 0x7f7265896c50>"
      ]
     },
     "metadata": {},
     "output_type": "display_data"
    }
   ],
   "source": [
    "# Obviously We can guess fare is related to passenger class\n",
    "# from scatter Plot we can see only first class have very high fare\n",
    "titanic_df.plot.scatter(x='Pclass',y='Fare')\n",
    "plt.xticks([1,2,3],['1st Class','2nd Class','3rd Class'])\n",
    "\n",
    "# We calculate their correlation to confirm\n",
    "titanic_df[['Fare', 'Pclass']].corr(method='spearman')"
   ]
  },
  {
   "cell_type": "markdown",
   "execution_count": null,
   "metadata": {
    "_cell_guid": "d99da116-cd08-43d3-b571-bf377c2987a1",
    "_uuid": "3d284b3f1bdadecd78e9c0974b66d7e6a6cb7c6e",
    "deletable": true,
    "editable": true
   },
   "outputs": [],
   "source": [
    "## Analyze about fare\n",
    "At first, we can find there are some people with very high fare, and we clear them out for a fair analysis.  \n",
    "Then from bar chart, we can find people survived have higher mean fare than people not survived.  \n",
    "\n",
    "We can do t-test to confirm this.  \n",
    "From T-test, p value is so small that we can confidently say people survied and not survied have different fare.  \n",
    "And more, **people survived have higher fare than people not survived.**\n",
    "\n",
    "However, normally only a man with high class can afford a high fare.\n",
    "So when we calculate the correlation between Fare and Pclass, there are actually some relation between them.  \n",
    "**People with lower class have lower fare**.  \n",
    "\n",
    "One of the sad fact is, if we look at 2nd Class and 3rd Class passengers, we can find the fare they pay have no much difference. But we will know in the latter part, their survival rate have a very big difference, especially females and children. That's because this kind of class separation."
   ]
  },
  {
   "cell_type": "code",
   "execution_count": 15,
   "metadata": {
    "_cell_guid": "4cd31433-09bd-455c-9349-0a1832436793",
    "_execution_state": "idle",
    "_uuid": "e7e55b389ddafa5bb8f851f6cf565575d08a3a36",
    "collapsed": false,
    "deletable": true,
    "editable": true
   },
   "outputs": [
    {
     "data": {
      "text/plain": [
       "<matplotlib.axes._subplots.AxesSubplot at 0x7f7265f03828>"
      ]
     },
     "execution_count": 15,
     "metadata": {},
     "output_type": "execute_result"
    },
    {
     "data": {
      "image/png": "[encoded data removed]",
      "text/plain": [
       "<matplotlib.figure.Figure at 0x7f726615e7f0>"
      ]
     },
     "metadata": {},
     "output_type": "display_data"
    }
   ],
   "source": [
    "# To explore more details\n",
    "# let's see sex distrubution in different classes\n",
    "figure(figsize=(8,5))\n",
    "sns.countplot(data=titanic_df,x='Class',hue='Sex',order=['1st Class','2nd Class','3rd Class'])"
   ]
  },
  {
   "cell_type": "code",
   "execution_count": 16,
   "metadata": {
    "_cell_guid": "cb70705a-ab3e-412d-a64f-062169841d03",
    "_execution_state": "idle",
    "_uuid": "102411542ba4c31aa8a36c0e6bfb0cca723f1ab9",
    "collapsed": false,
    "deletable": true,
    "editable": true,
    "scrolled": true
   },
   "outputs": [
    {
     "data": {
      "text/plain": [
       "<matplotlib.text.Text at 0x7f7265b20a58>"
      ]
     },
     "execution_count": 16,
     "metadata": {},
     "output_type": "execute_result"
    },
    {
     "data": {
      "image/png": "[encoded data removed]",
      "text/plain": [
       "<matplotlib.figure.Figure at 0x7f72659266d8>"
      ]
     },
     "metadata": {},
     "output_type": "display_data"
    }
   ],
   "source": [
    "# From above we could see class 3 have large percent of men\n",
    "# So we can guess the low survived rate of men is caused by class3 men\n",
    "# the survive rate in higher class between sex may not very distinct\n",
    "\n",
    "# Draw chart of different classes's survive rate detail\n",
    "class_sex_group = titanic_df[['Sex','Class','Survived']].groupby(['Sex','Class'],as_index=False)\n",
    "class_sex_survive_prec = class_sex_group.mean()\n",
    "\n",
    "figure(figsize=(8,5))\n",
    "fig = sns.barplot(data=class_sex_survive_prec, x='Sex',y='Survived',hue='Class', \\\n",
    "                  order=['male','female','child'])\n",
    "fig.axes.set_ylabel('Survival Rate')"
   ]
  },
  {
   "cell_type": "code",
   "execution_count": 17,
   "metadata": {
    "_cell_guid": "e62eac30-f1a7-4614-b61f-fde581399c6a",
    "_execution_state": "idle",
    "_uuid": "43ce810c1cb15470b934fdcb90f8e0e1a178a96f",
    "collapsed": false,
    "deletable": true,
    "editable": true
   },
   "outputs": [
    {
     "name": "stdout",
     "output_type": "stream",
     "text": [
      "Results of Chi-Squared test on Class to Survival on upper two classes female.\n",
      "Chi-Square Score = 2.31010987443\n",
      "Pvalue = 0.128534964002\n",
      "\n"
     ]
    }
   ],
   "source": [
    "# Between class1 and class2 women they have similar survive rates\n",
    "# Chi-Square test\n",
    "# H0 = For Class1 and Class2 female, the survive rate and class is independent\n",
    "female_class1_class2 = titanic_df[(titanic_df['Sex']=='female') \\\n",
    "                                  & ((titanic_df['Class']=='1st Class') \\\n",
    "                                     | (titanic_df['Class']=='2nd Class') )]\n",
    "\n",
    "class_pivot = pd.pivot_table(data=female_class1_class2[['Survived','Class']],index='Survived',columns=['Class'],\n",
    "                            aggfunc=len)\n",
    "chi2, p_value, dof, expected = chi2_contingency(class_pivot)\n",
    "print(\"Results of Chi-Squared test on Class to Survival on upper two classes female.\")\n",
    "print(\"Chi-Square Score = %s\"%str(chi2))\n",
    "print(\"Pvalue = %s\\n\"%str(p_value))"
   ]
  },
  {
   "cell_type": "code",
   "execution_count": 18,
   "metadata": {
    "_cell_guid": "951cb198-898d-4074-bf83-04f2b0b5c7a3",
    "_execution_state": "idle",
    "_uuid": "4e64234952d7763ccd79477cb616a472876836c0",
    "collapsed": false,
    "deletable": true,
    "editable": true
   },
   "outputs": [
    {
     "name": "stdout",
     "output_type": "stream",
     "text": [
      "Results of Chi-Squared test on Class to Survival on upper two classes child.\n",
      "Chi-Square Score = 1.52959656085\n",
      "Pvalue = 0.21617300386\n",
      "\n"
     ]
    }
   ],
   "source": [
    "# Also between class1 and class2 child they have much similar survive rates\n",
    "# Do test\n",
    "child_class1_class2 = titanic_df[(titanic_df['Sex']=='child') \\\n",
    "                                  & ((titanic_df['Class']=='1st Class') \\\n",
    "                                     | (titanic_df['Class']=='2nd Class') )]\n",
    "\n",
    "class_pivot = pd.pivot_table(data=child_class1_class2[['Survived','Class']],index='Survived',columns=['Class'],\n",
    "                            aggfunc=len)\n",
    "chi2, p_value, dof, expected = chi2_contingency(class_pivot)\n",
    "print(\"Results of Chi-Squared test on Class to Survival on upper two classes child.\")\n",
    "print(\"Chi-Square Score = %s\"%str(chi2))\n",
    "print(\"Pvalue = %s\\n\"%str(p_value))"
   ]
  },
  {
   "cell_type": "code",
   "execution_count": 19,
   "metadata": {
    "_cell_guid": "25acb2e4-12f8-4531-9427-03e4b3385276",
    "_execution_state": "idle",
    "_uuid": "d3327f3521ffd5ed54cab9fb51a9bce0acb4fe87",
    "collapsed": false,
    "deletable": true,
    "editable": true
   },
   "outputs": [
    {
     "name": "stdout",
     "output_type": "stream",
     "text": [
      "Results of Chi-Squared test on Class to Survival on lower two classes male.\n",
      "Chi-Square Score = 1.52959656085\n",
      "Pvalue = 0.21617300386\n",
      "\n"
     ]
    }
   ],
   "source": [
    "# And class2 and class3 male they also have similar survive rate\n",
    "male_class2_class3 = titanic_df[(titanic_df['Sex']=='male') \\\n",
    "                                  & ((titanic_df['Class']=='3rd Class') \\\n",
    "                                     | (titanic_df['Class']=='2nd Class') )]\n",
    "\n",
    "class_pivot = pd.pivot_table(data=male_class2_class3[['Survived','Class']],index='Survived',columns=['Class'],\n",
    "                            aggfunc=len)\n",
    "print(\"Results of Chi-Squared test on Class to Survival on lower two classes male.\")\n",
    "print(\"Chi-Square Score = %s\"%str(chi2))\n",
    "print(\"Pvalue = %s\\n\"%str(p_value))"
   ]
  },
  {
   "cell_type": "markdown",
   "execution_count": null,
   "metadata": {
    "_cell_guid": "ffbeac59-5a13-4fdf-8d0f-5c3febbbc6d6",
    "_uuid": "fc19b7e12c392481807899f019ba8324732a1d23",
    "deletable": true,
    "editable": true
   },
   "outputs": [],
   "source": [
    "## Analysis of class and sex detail\n",
    "From chart, we can see **women is actually have higher survive rate than men, even in different classes.**  \n",
    "And **1st class have higher survive rate for men, 3rd class children and women have lower survive rate.**  \n",
    "\n",
    "However, when we test class 1 female and class 2 female, class 1 child and class 2 child, as well as class 2 male and class 3 male,    \n",
    "we can't reject the hypothesis in high significance.  \n",
    "So we can conclude even in the whole higher class have higher survive rate,  \n",
    "**for women and children class 1 and class 2 have no much diffrerence;**  \n",
    "**for male class 2 and class 3 have no much difference.**"
   ]
  },
  {
   "cell_type": "markdown",
   "execution_count": null,
   "metadata": {
    "_cell_guid": "1dab6748-f016-47f0-ae7a-092278b6d9d2",
    "_uuid": "66dcb3090a433a9d6757368a58bfa69ea03c582a",
    "deletable": true,
    "editable": true
   },
   "outputs": [],
   "source": [
    "## Summary\n",
    "### First Question: Sex and Age factors with Survive rate\n",
    "From this violin chart, we can see clearly the survived distribution of male, female, and child.  \n",
    "![Figure 1](http://upload-images.jianshu.io/upload_images/4787675-0735a211713f2463.png?imageMogr2/auto-orient/strip%7CimageView2/2/w/1240)\n",
    "We can see the opposite condition of male and female, **most of the males died and most of the females lived**.  \n",
    "For children, it is nearly half and half.  \n",
    "We can look at more details at bar tables.\n",
    "![Figure 2](http://upload-images.jianshu.io/upload_images/4787675-1f5587a91e18d8c9.png?imageMogr2/auto-orient/strip%7CimageView2/2/w/1240)\n",
    "It exactly shows female have higher survival rate than male and children have higher survival rate than non-children.  \n",
    "\n",
    "We can also use statistical hypothesis test confirm this.\n",
    "We use Chi-Square-test, get Chi-Square Score and pvalue. These actually reject null hypothesis, and confirm our hypothesis in a high significance. \n",
    "\n",
    "### Second Question: Class factor with Survive rate\n",
    "As above, we show violin plot first.  \n",
    "We can see most of the 1st class survived, most of 3rd class died, and nearly half of 2nd class survived.  \n",
    "![Figure3](http://upload-images.jianshu.io/upload_images/4787675-aee0b30d3878980a.png?imageMogr2/auto-orient/strip%7CimageView2/2/w/1240)\n",
    "Then show people number of the three classes and respective survive rate.  \n",
    "![Figure4](http://upload-images.jianshu.io/upload_images/4787675-fff2b05415b730e4.png?imageMogr2/auto-orient/strip%7CimageView2/2/w/1240)\n",
    "It seems higher class have higher survive rate, and 3rd class has most of the people, but lowest survive rate.  \n",
    "\n",
    "Using Chi-Square-test analyse three class, It shows **Class actually relate to survive rate, especially between class 3 and upper classes**.\n",
    "\n",
    "### Third Question: Fare fator with Survive rate\n",
    "At first, show people distribution of different fares.\n",
    "![Figure5](http://upload-images.jianshu.io/upload_images/4787675-949cd2809835146c.png?imageMogr2/auto-orient/strip%7CimageView2/2/w/1240)\n",
    "We can see there are some outliners pay a lot of fare.  \n",
    "For fair, we clean them out, and plot mean fare for survive and non-survive groups.\n",
    "![Figure6](http://upload-images.jianshu.io/upload_images/4787675-7f2431e3c6f618f7.png?imageMogr2/auto-orient/strip%7CimageView2/2/w/1240)\n",
    "It shows clearly **people survived with higher fare.**  \n",
    "T-test also confirms our idea.\n",
    "\n",
    "### Forth Question: When going to each class and each sex, above conclusions still work?\n",
    "At first, plot bar chart for each sex and coordinate class.  \n",
    "Some interesting things emerge out.  \n",
    "![Figure7](http://upload-images.jianshu.io/upload_images/4787675-3246fc48cff7af1e.png?imageMogr2/auto-orient/strip%7CimageView2/2/w/1240)\n",
    "For male, its no longer higher class with higher survival rate, \n",
    "2nd class men even have lower survival rate than 3rd class men.  \n",
    "For female and child, 1st class and 2nd class seems have similar survive rate.  \n",
    "\n",
    "To confirm our observation, carry on Chi-Square-test between 1st and 2nd class female and child, and 2nd and 3rd class men.  \n",
    "If we hold 99% significance, all the three null hypothesis can't be rejected.  \n",
    "Therefore, what we conclude above don't work here.  \n",
    "\n",
    "## Conclusion\n",
    "1. **Women have higher survival rate than men and children, no matter whole people or separate classes.**  \n",
    "2. **Children have higher survival rate than whole adult group.**  \n",
    "3. **From the whole view, higher class has higher survival rate.**  \n",
    "4. **Survived people have higher price of their fares.**  \n",
    "5. **If we look at details, some of above conclusions fail.**  \n",
    "  1. **For 1st and 2nd classes, women and children have similar survival rate.**\n",
    "  2. **For 2nd and 3rd classes, men have similar survival rate.**"
   ]
  },
  {
   "cell_type": "markdown",
   "execution_count": null,
   "metadata": {
    "_cell_guid": "bb192607-4301-497b-aea5-206b204a5137",
    "_uuid": "fac3ef988799f32f71eb85d12a04badfb850ba67",
    "collapsed": true,
    "deletable": true,
    "editable": true
   },
   "outputs": [],
   "source": [
    "## Reference\n",
    "\n",
    "1. [Kaggle: Titanic variable descriptions](https://www.kaggle.com/c/titanic/data)\n",
    "2. [Wikipedia: Titanic sinking details](https://en.wikipedia.org/wiki/Sinking_of_the_RMS_Titanic)\n",
    "3. [The design of Titanic](http://www.ultimatetitanic.com/design/#.WDl3Et8xA8o)\n",
    "4. [Suites and cabins for passengers on the Titanic](http://www.dummies.com/education/history/suites-and-cabins-for-passengers-on-the-titanic/)\n",
    "5. [Pandas documents](http://pandas.pydata.org/pandas-docs/stable/index.html)\n",
    "6. [Room allocation in Titanic](http://www.dummies.com/education/history/titanic-facts-the-layout-of-the-ship/)\n",
    "7. [Ticket price for different class](http://www.dummies.com/education/history/suites-and-cabins-for-passengers-on-the-titanic/)\n",
    "8. [Advanced Functionality in Seabron](http://blog.insightdatalabs.com/advanced-functionality-in-seaborn/)\n",
    "9. [Panda dataframe add colums](http://stackoverflow.com/questions/12555323/adding-new-column-to-existing-dataframe-in-python-pandas)\n",
    "10. [Udacity Inferential Statistics](https://classroom.udacity.com/courses/ud201)\n",
    "11. [Kaggle a journey through titanic notebook](https://www.kaggle.com/omarelgabry/titanic/a-journey-through-titanic/notebook)\n",
    "12. [Markdown Cheatsheet](https://github.com/adam-p/markdown-here/wiki/Markdown-Cheatsheet)\n",
    "13. [How to deal with SettingWithCopyWarning in Pandas?](http://stackoverflow.com/questions/20625582/how-to-deal-with-settingwithcopywarning-in-pandas)\n",
    "14. [What statistical analysis should I use?](http://www.ats.ucla.edu/stat/stata/whatstat/whatstat.htm)\n",
    "15. [Seaborn Documents](http://seaborn.pydata.org/index.html)\n",
    "16. [Scipy stats](https://docs.scipy.org/doc/scipy/reference/stats.html)\n",
    "17. [Matplotlib figure document](http://matplotlib.org/api/figure_api.html)\n",
    "18. [Pandas dataframe add a field based on multiple if statements](http://stackoverflow.com/questions/21733893/pandas-dataframe-add-a-field-based-on-multiple-if-statements)\n",
    "19. [Correlation(Pearson, Kendall, Spearman)](http://www.statisticssolutions.com/correlation-pearson-kendall-spearman/)"
   ]
  }
 ],
 "metadata": {
  "anaconda-cloud": {},
  "kernelspec": {
   "display_name": "Python 3",
   "language": "python",
   "name": "python3"
  },
  "language_info": {
   "codemirror_mode": {
    "name": "ipython",
    "version": 3
   },
   "file_extension": ".py",
   "mimetype": "text/x-python",
   "name": "python",
   "nbconvert_exporter": "python",
   "pygments_lexer": "ipython3",
   "version": "3.6.1"
  }
 },
 "nbformat": 4,
 "nbformat_minor": 1
}
